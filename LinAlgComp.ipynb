{
 "cells": [
  {
   "cell_type": "code",
   "execution_count": 4,
   "metadata": {},
   "outputs": [],
   "source": [
    "import numpy as np\n",
    "import matplotlib.pyplot as plt\n",
    "from scipy import linalg\n"
   ]
  },
  {
   "cell_type": "markdown",
   "metadata": {},
   "source": [
    "1. Vector Dot and Cross Products (10 pts) Define two vectors in\n",
    "the plane: u = [2, 0], v = [3, 4]. Calculate their dot product by hand,\n",
    "state the result in a markdown cell. Then create these two vectors as\n",
    "numpy arrays and show that u@v gives the same result. Repeat the\n",
    "calculation and numerical computation for the cross product"
   ]
  },
  {
   "cell_type": "code",
   "execution_count": 5,
   "metadata": {},
   "outputs": [
    {
     "name": "stdout",
     "output_type": "stream",
     "text": [
      "6\n",
      "6\n"
     ]
    }
   ],
   "source": [
    "def dotProd(vecA, vecB):\n",
    "    sum = 0\n",
    "    for i, c in enumerate(vecA):\n",
    "        sum+=vecA[i]*vecB[i]\n",
    "    return sum\n",
    "\n",
    "print(dotProd([2, 0], [3,4]))\n",
    "print(np.dot(np.array([2, 0]), np.array([3, 4])))"
   ]
  },
  {
   "cell_type": "code",
   "execution_count": 6,
   "metadata": {},
   "outputs": [
    {
     "name": "stdout",
     "output_type": "stream",
     "text": [
      "8.0\n"
     ]
    }
   ],
   "source": [
    "def crossProd(vecA, vecB):\n",
    "    temp = dotProd(vecA, vecB)\n",
    "    vecASize = 0\n",
    "    vecBSize = 0\n",
    "    for i, c in enumerate(vecA):\n",
    "        vecASize += vecA[i]**2\n",
    "        vecBSize += vecB[i]**2\n",
    "    vecASize = np.sqrt(vecASize)\n",
    "    vecBSize = np.sqrt(vecBSize)\n",
    "    temp = temp / (vecASize * vecBSize)\n",
    "    theta = np.arccos(temp)\n",
    "    return vecASize*vecBSize*np.sin(theta)\n",
    "\n",
    "print(crossProd([2, 0], [3,4]))"
   ]
  },
  {
   "cell_type": "markdown",
   "metadata": {},
   "source": [
    "2. Matrix multiplication (10 pts) Here are two matrices:\n",
    "A =\n",
    "\n",
    "\n",
    "1 3\n",
    "2 4\n",
    "5 6\n",
    "\n",
    " , B =\n",
    "[ 2 1 4\n",
    "3 2 1\n",
    "]\n",
    "Create these two matrices in Python, then print out A, B, and the\n",
    "two matrix products A · B and B · A. (Hint: If you do something like\n",
    "print(f’A =\\n{aa}’) the matrix will print out nicely.) Calculate by\n",
    "hand at least one element of A · B and one element of B · A and check\n",
    "that these agree with your Python calculation"
   ]
  },
  {
   "cell_type": "code",
   "execution_count": 19,
   "metadata": {},
   "outputs": [
    {
     "name": "stdout",
     "output_type": "stream",
     "text": [
      "[[11.  7.  7.]\n",
      " [16. 10. 12.]\n",
      " [28. 17. 26.]]\n",
      "[[24. 34.]\n",
      " [12. 23.]]\n"
     ]
    }
   ],
   "source": [
    "def matrixMultiply(A, B):\n",
    "    if A.shape[1] != B.shape[0]:\n",
    "        raise ValueError(\"Cannot multiply\")\n",
    "\n",
    "    result = np.zeros((A.shape[0], B.shape[1]))\n",
    "\n",
    "\n",
    "    for i in range(A.shape[0]):  \n",
    "        for j in range(B.shape[1]):  \n",
    "            for k in range(A.shape[1]):\n",
    "                result[i][j] += A[i][k] * B[k][j]\n",
    "\n",
    "    return np.array(result)\n",
    "\n",
    "A = np.array([[1, 3], [2, 4], [5, 6]])\n",
    "B = np.array([[2, 1, 4], [3, 2, 1]])\n",
    "\n",
    "print(matrixMultiply(A, B))\n",
    "print(matrixMultiply(B, A))"
   ]
  },
  {
   "cell_type": "markdown",
   "metadata": {},
   "source": [
    "3. Inverse of a matrix (10 pts) Consider the matrix\n",
    "C =\n",
    "\n",
    "\n",
    "1 3 2\n",
    "2 4 1\n",
    "5 6 5\n",
    "Have Python print out C, C−1, and C−1 · C. Is the last of these what\n",
    "you expect?"
   ]
  },
  {
   "cell_type": "code",
   "execution_count": 8,
   "metadata": {},
   "outputs": [
    {
     "name": "stdout",
     "output_type": "stream",
     "text": [
      "[[1 3 2]\n",
      " [2 4 1]\n",
      " [5 6 5]]\n",
      "\n",
      "[[-0.82352941  0.17647059  0.29411765]\n",
      " [ 0.29411765  0.29411765 -0.17647059]\n",
      " [ 0.47058824 -0.52941176  0.11764706]]\n",
      "\n",
      "[[ 1.00000000e+00  2.22044605e-16  2.22044605e-16]\n",
      " [-8.32667268e-17  1.00000000e+00 -8.32667268e-17]\n",
      " [ 2.22044605e-16  0.00000000e+00  1.00000000e+00]]\n"
     ]
    }
   ],
   "source": [
    "def inverseOriginalAndProd(C):\n",
    "    if np.shape(C)[0] != np.shape(C)[1]:\n",
    "        print(\"No Inverse\")\n",
    "    else:\n",
    "        print(C)\n",
    "        print()\n",
    "        print(linalg.inv(C))\n",
    "        print()\n",
    "        print(np.linalg.matmul(linalg.inv(C), C))\n",
    "\n",
    "C = np.array([[1, 3, 2], [2, 4, 1], [5, 6, 5]])\n",
    "inverseOriginalAndProd(C)"
   ]
  },
  {
   "cell_type": "markdown",
   "metadata": {},
   "source": [
    "4. Solve a system of linear equations (10 pts) Use Python to solve\n",
    "the following system of linear equations:\n",
    "$$ x + 4y + z = −4, \n",
    "4x − y − z = 3, \n",
    "2x + y + 3z = 7.$$\n",
    "for the three unknowns x, y and z. Do this two different ways: (a) by\n",
    "multiplying the inverse of the matrix of coefficients by the RHS vector,\n",
    "and (b) using linalg.solve (which is more accurate in general), and\n",
    "check that both methods agree. Plug the solution for x, y, z into one\n",
    "of the original equations to check that it is satisfied."
   ]
  },
  {
   "cell_type": "code",
   "execution_count": 15,
   "metadata": {},
   "outputs": [
    {
     "name": "stdout",
     "output_type": "stream",
     "text": [
      "[ 0.88461538 -1.80769231  2.34615385]\n",
      "-4.000000000000001\n",
      "[ 0.88461538 -1.80769231  2.34615385]\n",
      "-4.000000000000001\n"
     ]
    }
   ],
   "source": [
    "def equationSolver(*coeffs):\n",
    "    # Convert tuples to a NumPy array\n",
    "    augmented_matrix = np.array(coeffs, dtype=float)\n",
    "\n",
    "    A = augmented_matrix[:, :-1]  \n",
    "    b = augmented_matrix[:, -1]  \n",
    "    try:\n",
    "        x = np.linalg.solve(A, b)\n",
    "        return x\n",
    "    except np.linalg.LinAlgError as e:\n",
    "        return f\"Error: {e}\"\n",
    "    \n",
    "def equationSolverByInv(*coeffs):\n",
    "    augmented_matrix = np.array(coeffs, dtype=float)\n",
    "\n",
    "    A = augmented_matrix[:, :-1]  \n",
    "    b = augmented_matrix[:, -1]\n",
    "    return(np.linalg.matmul(linalg.inv(A), b))\n",
    "sol = equationSolver((1, 4, 1, -4), (4, -1, -1, 3), (2, 1, 3, 7))\n",
    "print(sol)\n",
    "print(1*sol[0]+4*sol[1]+1*sol[2])\n",
    "\n",
    "sol1 = equationSolverByInv((1, 4, 1, -4), (4, -1, -1, 3), (2, 1, 3, 7))\n",
    "\n",
    "print(sol1)\n",
    "print(1*sol1[0]+4*sol1[1]+1*sol1[2])"
   ]
  },
  {
   "cell_type": "markdown",
   "metadata": {},
   "source": [
    "6. Eigenvectors and eigenvalues of a real, symmetric matrix.(10\n",
    "pts) Consider the following real, symmetric matrix\n",
    "Sx =\n",
    "\n",
    "\n",
    "\n",
    "\n",
    "0 √3/2 0 0√3/2 0 1 0\n",
    "0 1 0 √3/2\n",
    "0 0 √3/2 0\n",
    "\n",
    "\n",
    "\n",
    " .\n",
    "(a) Compute and print out this matrix.\n",
    "(b) Compute and print out the four eigenvectors and eigenvalues for\n",
    "this matrix.\n",
    "(c) Multiply the matrix by one of the eigenvectors and show that you\n",
    "get what is expected."
   ]
  },
  {
   "cell_type": "code",
   "execution_count": null,
   "metadata": {},
   "outputs": [
    {
     "name": "stdout",
     "output_type": "stream",
     "text": [
      "Part A:\n",
      " [[0.        0.8660254 0.        0.       ]\n",
      " [0.8660254 0.        1.        0.       ]\n",
      " [0.        1.        0.        0.8660254]\n",
      " [0.        0.        0.8660254 0.       ]]\n",
      "\n",
      "Part B eigenVal:\n",
      " [-1.5 -0.5  1.5  0.5]\n",
      "\n",
      "Part B eigenVec:\n",
      " [[ 0.35355339  0.61237244 -0.35355339 -0.61237244]\n",
      " [-0.61237244 -0.35355339 -0.61237244 -0.35355339]\n",
      " [ 0.61237244 -0.35355339 -0.61237244  0.35355339]\n",
      " [-0.35355339  0.61237244 -0.35355339  0.61237244]]\n",
      "\n",
      "Part C: A·v = λ·v check for eigenvalue -1.5000\n",
      "A·v = [-0.53033009  0.91855865 -0.91855865  0.53033009]\n",
      "λ·v = [-0.53033009  0.91855865 -0.91855865  0.53033009]\n",
      "Difference (should be near zero): [-8.88178420e-16  1.22124533e-15 -8.88178420e-16  4.44089210e-16]\n"
     ]
    }
   ],
   "source": [
    "import numpy as np\n",
    "\n",
    "def part6(S):\n",
    "    print(\"Part A:\\n\", S)\n",
    "\n",
    "    eigenvalues, eigenvectors = np.linalg.eig(S)\n",
    "\n",
    "    print(\"\\nPart B eigenVal:\\n\", eigenvalues)\n",
    "    print(\"\\nPart B eigenVec:\\n\", eigenvectors)\n",
    "\n",
    "    Av = np.matmul(S, eigenvectors[:, 0])\n",
    "    lambda_v = eigenvalues[0] * eigenvectors[:, 0]\n",
    "\n",
    "    print(f\"\\nPart C: A·v = λ·v check for eigenvalue {eigenvalues[0]:.4f}\")\n",
    "    print(\"A·v =\", Av)\n",
    "    print(\"λ·v =\", lambda_v)\n",
    "    print(\"Difference:\", Av - lambda_v)\n",
    "\n",
    "\n",
    "S = np.array([\n",
    "    [0, np.sqrt(3)/2, 0, 0],\n",
    "    [np.sqrt(3)/2, 0, 1, 0],\n",
    "    [0, 1, 0, np.sqrt(3)/2],\n",
    "    [0, 0, np.sqrt(3)/2, 0]\n",
    "])\n",
    "\n",
    "part6(S)\n"
   ]
  }
 ],
 "metadata": {
  "kernelspec": {
   "display_name": "Python 3",
   "language": "python",
   "name": "python3"
  },
  "language_info": {
   "codemirror_mode": {
    "name": "ipython",
    "version": 3
   },
   "file_extension": ".py",
   "mimetype": "text/x-python",
   "name": "python",
   "nbconvert_exporter": "python",
   "pygments_lexer": "ipython3",
   "version": "3.13.0"
  }
 },
 "nbformat": 4,
 "nbformat_minor": 2
}
